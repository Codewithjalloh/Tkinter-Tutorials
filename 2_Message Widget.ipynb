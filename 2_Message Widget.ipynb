{
 "cells": [
  {
   "cell_type": "code",
   "execution_count": 2,
   "metadata": {},
   "outputs": [],
   "source": [
    "import tkinter as tk \n",
    "master = tk.Tk()\n",
    "whatever_you_do = \"Whatever you do will be insignificant, but it is very important that you do it.\\n(Mahatma Gandhi)\"\n",
    "msg = tk.Message(master, text = whatever_you_do)\n",
    "msg.config(bg='lightgreen', font=('times', 24,'italic'))\n",
    "msg.pack()\n",
    "tk.mainloop()"
   ]
  },
  {
   "cell_type": "code",
   "execution_count": null,
   "metadata": {},
   "outputs": [],
   "source": []
  },
  {
   "cell_type": "code",
   "execution_count": null,
   "metadata": {},
   "outputs": [],
   "source": [
    "'''\n",
    "The Options in Detail\n",
    "Option\tMeaning\n",
    "anchor\tThe position, where the text should be placed in the message widget: N, NE, E, SE, S, SW, W, NW, or CENTER. The Default is CENTER.\n",
    "aspect\tAspect ratio, given as the width/height relation in percent. The default is 150, which means that the message will be 50% wider than it is high. Note that if the width is explicitly set, this option is ignored.\n",
    "background\tThe background color of the message widget. The default value is system specific.\n",
    "bg\tShort for background.\n",
    "borderwidth\tBorder width. Default value is 2.\n",
    "bd\tShort for borderwidth.\n",
    "cursor\tDefines the kind of cursor to show when the mouse is moved over the message widget. By default the standard cursor is used.\n",
    "font\tMessage font. The default value is system specific.\n",
    "foreground\tText color. The default value is system specific.\n",
    "fg\tSame as foreground.\n",
    "highlightbackground\tTogether with highlightcolor and highlightthickness, this option controls how to draw the highlight region.\n",
    "highlightcolor\tSee highlightbackground.\n",
    "highlightthickness\tSee highlightbackground.\n",
    "justify\tDefines how to align multiple lines of text. Use LEFT, RIGHT, or CENTER. Note that to position the text inside the widget, use the anchor option. Default is LEFT.\n",
    "padx\tHorizontal padding. Default is -1 (no padding).\n",
    "pady\tVertical padding. Default is -1 (no padding).\n",
    "relief\tBorder decoration. The default is FLAT. Other possible values are SUNKEN, RAISED, GROOVE, and RIDGE.\n",
    "takefocus\tIf true, the widget accepts input focus. The default is false.\n",
    "text\tMessage text. The widget inserts line breaks if necessary to get the requested aspect ratio. (text/Text)\n",
    "textvariable\tAssociates a Tkinter variable with the message, which is usually a StringVar. If the variable is changed, the message text is updated.\n",
    "width\tWidget width given in character units. A suitable width based on the aspect setting is automatically chosen, if this option is not given.\n",
    "'''"
   ]
  }
 ],
 "metadata": {
  "kernelspec": {
   "display_name": "Python 3",
   "language": "python",
   "name": "python3"
  },
  "language_info": {
   "codemirror_mode": {
    "name": "ipython",
    "version": 3
   },
   "file_extension": ".py",
   "mimetype": "text/x-python",
   "name": "python",
   "nbconvert_exporter": "python",
   "pygments_lexer": "ipython3",
   "version": "3.7.0"
  }
 },
 "nbformat": 4,
 "nbformat_minor": 2
}
