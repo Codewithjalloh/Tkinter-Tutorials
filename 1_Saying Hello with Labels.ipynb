{
 "cells": [
  {
   "cell_type": "code",
   "execution_count": 11,
   "metadata": {},
   "outputs": [],
   "source": [
    "'''\n",
    "The tkinter module, containing the Tk toolkit, \n",
    "has always to be imported. In our example, \n",
    "we imported tkinter by renaming it into tk, which is the preferred way to do it\n",
    "'''\n",
    "import tkinter as tk \n",
    "\n",
    "'''\n",
    "To initialize tkinter, we have to create a Tk root widget, \n",
    "which is a window with a title bar and other decoration provided \n",
    "by the window manager. The root widget has to be created \n",
    "before any other widgets and there can only be one root widget.\n",
    "'''\n",
    "root = tk.Tk()\n",
    "'''\n",
    "The next line of code contains the Label widget. The first parameter of the Label call is the name of the parent window, in our case \"root\". So our Label widget is a child of the root widget. \n",
    "The keyword parameter \"text\" specifies the text to be shown:\n",
    "'''\n",
    "w = tk.Label(root, text=\"Hello Tkinter!\")\n",
    "'''\n",
    "The pack method tells Tk to fit the size of \n",
    "the window to the given text\n",
    "'''\n",
    "w.pack()\n",
    "'''\n",
    "The window won't appear until we enter the Tkinter event loop:\n",
    "'''\n",
    "root.mainloop()"
   ]
  },
  {
   "cell_type": "code",
   "execution_count": null,
   "metadata": {},
   "outputs": [],
   "source": []
  },
  {
   "cell_type": "code",
   "execution_count": 7,
   "metadata": {},
   "outputs": [],
   "source": [
    "import tkinter as tk"
   ]
  },
  {
   "cell_type": "code",
   "execution_count": 8,
   "metadata": {},
   "outputs": [],
   "source": [
    "root = tk.Tk()"
   ]
  },
  {
   "cell_type": "code",
   "execution_count": 9,
   "metadata": {},
   "outputs": [],
   "source": [
    "w = tk.Label(root, text=\"Hello King!\")"
   ]
  },
  {
   "cell_type": "code",
   "execution_count": 10,
   "metadata": {},
   "outputs": [],
   "source": [
    "w.pack()"
   ]
  },
  {
   "cell_type": "code",
   "execution_count": 12,
   "metadata": {},
   "outputs": [],
   "source": [
    "root.mainloop()"
   ]
  },
  {
   "cell_type": "code",
   "execution_count": null,
   "metadata": {},
   "outputs": [],
   "source": [
    "# Using Images In Labels "
   ]
  },
  {
   "cell_type": "code",
   "execution_count": 14,
   "metadata": {},
   "outputs": [],
   "source": [
    "import tkinter as tk \n",
    "\n",
    "root = tk.Tk()\n",
    "\n",
    "logo = tk.PhotoImage(file=\"python.gif\")\n",
    "\n",
    "w1 = tk.Label(root, image=logo).pack(side=\"right\")\n",
    "\n",
    "explanation = \"\"\"At present, only GIF and PPM/PGM\n",
    "formats are supported, but an interface \n",
    "exists to allow additional image file\n",
    "formats to be added easily.\"\"\"\n",
    "\n",
    "w2 = tk.Label(root, justify=tk.LEFT, padx = 10, \n",
    "             text=explanation).pack(side=\"left\")\n",
    "\n",
    "root.mainloop()"
   ]
  },
  {
   "cell_type": "code",
   "execution_count": 15,
   "metadata": {},
   "outputs": [],
   "source": [
    "# image at the center "
   ]
  },
  {
   "cell_type": "code",
   "execution_count": 1,
   "metadata": {
    "scrolled": true
   },
   "outputs": [],
   "source": [
    "import tkinter as tk \n",
    "root = tk.Tk()\n",
    "logo = tk.PhotoImage(file=\"python.gif\")\n",
    "explanation = \"\"\"At present, only GIF and PPM/PGM\n",
    "formats are supported, but an interface \n",
    "exists to allow additional image file\n",
    "formats to be added easily.\"\"\"\n",
    "w = tk.Label(root, compound = tk.CENTER, \n",
    "            text=explanation, \n",
    "            image=logo).pack(side=\"right\")\n",
    "root.mainloop()"
   ]
  },
  {
   "cell_type": "code",
   "execution_count": 2,
   "metadata": {},
   "outputs": [],
   "source": [
    "# Colorised Labels In Various Fonts"
   ]
  },
  {
   "cell_type": "code",
   "execution_count": 7,
   "metadata": {},
   "outputs": [],
   "source": [
    "import tkinter as tk \n",
    "root = tk.Tk()\n",
    "tk.Label(root, text=\"Red Text in Times Font\", \n",
    "        fg = \"red\", \n",
    "        font = \"Times\").pack()\n",
    "tk.Label(root, \n",
    "        text=\"Green Text in Helvetica Font\",\n",
    "        fg = \"light green\", \n",
    "        bg = \"dark green\", \n",
    "        \n",
    "        font = \"Helvetica 16 bold italic\").pack()\n",
    "tk.Label(root, \n",
    "        text=\"Blue Text in Verdana Bold\", \n",
    "        fg = \"blue\", \n",
    "        bg = \"yellow\", \n",
    "        font = \"Verdana 10 bold\").pack()\n",
    "root.mainloop()"
   ]
  },
  {
   "cell_type": "code",
   "execution_count": 8,
   "metadata": {},
   "outputs": [],
   "source": [
    "# Dynamical Content in a Label "
   ]
  },
  {
   "cell_type": "code",
   "execution_count": 18,
   "metadata": {},
   "outputs": [],
   "source": [
    "import tkinter as tk\n",
    "counter = 0 \n",
    "def counter_label(label):\n",
    "    def count():\n",
    "        global counter \n",
    "        counter += 1\n",
    "        label.config(text=str(counter))\n",
    "        label.after(1000, count)\n",
    "    count()\n",
    "    \n",
    "root = tk.Tk()\n",
    "root.title(\"Counting Seconds\")\n",
    "label = tk.Label(root, fg=\"green\")\n",
    "label.pack()\n",
    "counter_label(label)\n",
    "button = tk.Button(root, text=\"Stop\", \n",
    "                  width=10, command=root.destroy)\n",
    "button.pack()\n",
    "root.mainloop()"
   ]
  },
  {
   "cell_type": "code",
   "execution_count": null,
   "metadata": {},
   "outputs": [],
   "source": []
  },
  {
   "cell_type": "code",
   "execution_count": null,
   "metadata": {},
   "outputs": [],
   "source": []
  },
  {
   "cell_type": "code",
   "execution_count": null,
   "metadata": {},
   "outputs": [],
   "source": []
  },
  {
   "cell_type": "code",
   "execution_count": null,
   "metadata": {},
   "outputs": [],
   "source": []
  },
  {
   "cell_type": "code",
   "execution_count": null,
   "metadata": {},
   "outputs": [],
   "source": []
  },
  {
   "cell_type": "code",
   "execution_count": null,
   "metadata": {},
   "outputs": [],
   "source": []
  },
  {
   "cell_type": "code",
   "execution_count": null,
   "metadata": {},
   "outputs": [],
   "source": []
  },
  {
   "cell_type": "code",
   "execution_count": null,
   "metadata": {},
   "outputs": [],
   "source": []
  },
  {
   "cell_type": "code",
   "execution_count": null,
   "metadata": {},
   "outputs": [],
   "source": []
  },
  {
   "cell_type": "code",
   "execution_count": null,
   "metadata": {},
   "outputs": [],
   "source": []
  },
  {
   "cell_type": "code",
   "execution_count": null,
   "metadata": {},
   "outputs": [],
   "source": []
  },
  {
   "cell_type": "code",
   "execution_count": null,
   "metadata": {},
   "outputs": [],
   "source": []
  },
  {
   "cell_type": "code",
   "execution_count": null,
   "metadata": {},
   "outputs": [],
   "source": []
  },
  {
   "cell_type": "code",
   "execution_count": null,
   "metadata": {},
   "outputs": [],
   "source": []
  },
  {
   "cell_type": "code",
   "execution_count": null,
   "metadata": {},
   "outputs": [],
   "source": []
  },
  {
   "cell_type": "code",
   "execution_count": null,
   "metadata": {},
   "outputs": [],
   "source": []
  },
  {
   "cell_type": "code",
   "execution_count": null,
   "metadata": {},
   "outputs": [],
   "source": []
  },
  {
   "cell_type": "code",
   "execution_count": null,
   "metadata": {},
   "outputs": [],
   "source": []
  },
  {
   "cell_type": "code",
   "execution_count": null,
   "metadata": {},
   "outputs": [],
   "source": []
  },
  {
   "cell_type": "code",
   "execution_count": null,
   "metadata": {},
   "outputs": [],
   "source": []
  },
  {
   "cell_type": "code",
   "execution_count": null,
   "metadata": {},
   "outputs": [],
   "source": []
  },
  {
   "cell_type": "code",
   "execution_count": null,
   "metadata": {},
   "outputs": [],
   "source": []
  },
  {
   "cell_type": "code",
   "execution_count": null,
   "metadata": {},
   "outputs": [],
   "source": []
  },
  {
   "cell_type": "code",
   "execution_count": null,
   "metadata": {},
   "outputs": [],
   "source": []
  },
  {
   "cell_type": "code",
   "execution_count": null,
   "metadata": {},
   "outputs": [],
   "source": []
  },
  {
   "cell_type": "code",
   "execution_count": null,
   "metadata": {},
   "outputs": [],
   "source": []
  },
  {
   "cell_type": "code",
   "execution_count": null,
   "metadata": {},
   "outputs": [],
   "source": []
  },
  {
   "cell_type": "code",
   "execution_count": null,
   "metadata": {},
   "outputs": [],
   "source": []
  },
  {
   "cell_type": "code",
   "execution_count": null,
   "metadata": {},
   "outputs": [],
   "source": []
  },
  {
   "cell_type": "code",
   "execution_count": null,
   "metadata": {},
   "outputs": [],
   "source": []
  },
  {
   "cell_type": "code",
   "execution_count": null,
   "metadata": {},
   "outputs": [],
   "source": []
  },
  {
   "cell_type": "code",
   "execution_count": null,
   "metadata": {},
   "outputs": [],
   "source": []
  },
  {
   "cell_type": "code",
   "execution_count": null,
   "metadata": {},
   "outputs": [],
   "source": []
  },
  {
   "cell_type": "code",
   "execution_count": null,
   "metadata": {},
   "outputs": [],
   "source": []
  },
  {
   "cell_type": "code",
   "execution_count": null,
   "metadata": {},
   "outputs": [],
   "source": []
  },
  {
   "cell_type": "code",
   "execution_count": null,
   "metadata": {},
   "outputs": [],
   "source": []
  },
  {
   "cell_type": "code",
   "execution_count": null,
   "metadata": {},
   "outputs": [],
   "source": []
  },
  {
   "cell_type": "code",
   "execution_count": null,
   "metadata": {},
   "outputs": [],
   "source": []
  }
 ],
 "metadata": {
  "kernelspec": {
   "display_name": "Python 3",
   "language": "python",
   "name": "python3"
  },
  "language_info": {
   "codemirror_mode": {
    "name": "ipython",
    "version": 3
   },
   "file_extension": ".py",
   "mimetype": "text/x-python",
   "name": "python",
   "nbconvert_exporter": "python",
   "pygments_lexer": "ipython3",
   "version": "3.7.0"
  }
 },
 "nbformat": 4,
 "nbformat_minor": 2
}
